{
  "nbformat": 4,
  "nbformat_minor": 0,
  "metadata": {
    "colab": {
      "provenance": [],
      "collapsed_sections": []
    },
    "kernelspec": {
      "name": "python3",
      "display_name": "Python 3"
    },
    "nteract": {
      "version": "0.12.3"
    },
    "language_info": {
      "name": "python"
    }
  },
  "cells": [
    {
      "cell_type": "code",
      "metadata": {
        "id": "V58rxea0HqSa",
        "colab": {
          "base_uri": "https://localhost:8080/"
        },
        "outputId": "d2f4a018-6d62-4a32-9cd9-1fca427d4b02"
      },
      "source": [
        "import os\n",
        "# Find the latest version of spark 3.0 from http://www.apache.org/dist/spark/ and enter as the spark version\n",
        "# For example:\n",
        "# spark_version = 'spark-3.0.3'\n",
        "spark_version = 'spark-3.1.3'\n",
        "os.environ['SPARK_VERSION']=spark_version\n",
        "\n",
        "# Install Spark and Java\n",
        "!apt-get update\n",
        "!apt-get install openjdk-11-jdk-headless -qq > /dev/null\n",
        "!wget -q http://www.apache.org/dist/spark/$SPARK_VERSION/$SPARK_VERSION-bin-hadoop2.7.tgz\n",
        "!tar xf $SPARK_VERSION-bin-hadoop2.7.tgz\n",
        "!pip install -q findspark\n",
        "\n",
        "# Set Environment Variables\n",
        "import os\n",
        "os.environ[\"JAVA_HOME\"] = \"/usr/lib/jvm/java-11-openjdk-amd64\"\n",
        "os.environ[\"SPARK_HOME\"] = f\"/content/{spark_version}-bin-hadoop2.7\"\n",
        "\n",
        "# Start a SparkSession\n",
        "import findspark\n",
        "findspark.init()"
      ],
      "execution_count": 1,
      "outputs": [
        {
          "output_type": "stream",
          "name": "stdout",
          "text": [
            "\r0% [Working]\r            \rGet:1 http://security.ubuntu.com/ubuntu bionic-security InRelease [88.7 kB]\n",
            "\r0% [Connecting to archive.ubuntu.com (185.125.190.39)] [1 InRelease 14.2 kB/88.\r                                                                               \rGet:2 https://cloud.r-project.org/bin/linux/ubuntu bionic-cran40/ InRelease [3,626 B]\n",
            "Hit:3 http://archive.ubuntu.com/ubuntu bionic InRelease\n",
            "Ign:4 https://developer.download.nvidia.com/compute/machine-learning/repos/ubuntu1804/x86_64  InRelease\n",
            "Hit:5 http://ppa.launchpad.net/c2d4u.team/c2d4u4.0+/ubuntu bionic InRelease\n",
            "Get:6 https://developer.download.nvidia.com/compute/cuda/repos/ubuntu1804/x86_64  InRelease [1,581 B]\n",
            "Hit:7 https://developer.download.nvidia.com/compute/machine-learning/repos/ubuntu1804/x86_64  Release\n",
            "Get:8 http://archive.ubuntu.com/ubuntu bionic-updates InRelease [88.7 kB]\n",
            "Hit:9 http://ppa.launchpad.net/cran/libgit2/ubuntu bionic InRelease\n",
            "Get:10 http://security.ubuntu.com/ubuntu bionic-security/main amd64 Packages [2,990 kB]\n",
            "Get:11 http://archive.ubuntu.com/ubuntu bionic-backports InRelease [83.3 kB]\n",
            "Hit:12 http://ppa.launchpad.net/deadsnakes/ppa/ubuntu bionic InRelease\n",
            "Get:13 http://security.ubuntu.com/ubuntu bionic-security/universe amd64 Packages [1,545 kB]\n",
            "Hit:14 http://ppa.launchpad.net/graphics-drivers/ppa/ubuntu bionic InRelease\n",
            "Get:15 https://developer.download.nvidia.com/compute/cuda/repos/ubuntu1804/x86_64  Packages [913 kB]\n",
            "Get:17 http://archive.ubuntu.com/ubuntu bionic-updates/universe amd64 Packages [2,322 kB]\n",
            "Get:18 http://archive.ubuntu.com/ubuntu bionic-updates/main amd64 Packages [3,422 kB]\n",
            "Fetched 11.5 MB in 3s (3,368 kB/s)\n",
            "Reading package lists... Done\n"
          ]
        }
      ]
    },
    {
      "cell_type": "code",
      "metadata": {
        "id": "_xKwTpATHqSe",
        "colab": {
          "base_uri": "https://localhost:8080/"
        },
        "outputId": "e1732a3e-1d23-419f-b344-232573b501b5"
      },
      "source": [
        "# Download the Postgres driver that will allow Spark to interact with Postgres.\n",
        "!wget https://jdbc.postgresql.org/download/postgresql-42.2.16.jar"
      ],
      "execution_count": 2,
      "outputs": [
        {
          "output_type": "stream",
          "name": "stdout",
          "text": [
            "--2022-09-28 16:03:04--  https://jdbc.postgresql.org/download/postgresql-42.2.16.jar\n",
            "Resolving jdbc.postgresql.org (jdbc.postgresql.org)... 72.32.157.228, 2001:4800:3e1:1::228\n",
            "Connecting to jdbc.postgresql.org (jdbc.postgresql.org)|72.32.157.228|:443... connected.\n",
            "HTTP request sent, awaiting response... 200 OK\n",
            "Length: 1002883 (979K) [application/java-archive]\n",
            "Saving to: ‘postgresql-42.2.16.jar’\n",
            "\n",
            "postgresql-42.2.16. 100%[===================>] 979.38K  5.44MB/s    in 0.2s    \n",
            "\n",
            "2022-09-28 16:03:04 (5.44 MB/s) - ‘postgresql-42.2.16.jar’ saved [1002883/1002883]\n",
            "\n"
          ]
        }
      ]
    },
    {
      "cell_type": "code",
      "metadata": {
        "id": "MMqDAjVS0KN9"
      },
      "source": [
        "from pyspark.sql import SparkSession\n",
        "spark = SparkSession.builder.appName(\"M16-Amazon-Challenge\").config(\"spark.driver.extraClassPath\",\"/content/postgresql-42.2.16.jar\").getOrCreate()"
      ],
      "execution_count": 3,
      "outputs": []
    },
    {
      "cell_type": "markdown",
      "metadata": {
        "id": "cyBsySGuY-9V"
      },
      "source": [
        "### Load Amazon Data into Spark DataFrame"
      ]
    },
    {
      "cell_type": "code",
      "metadata": {
        "id": "CtCmBhQJY-9Z",
        "colab": {
          "base_uri": "https://localhost:8080/"
        },
        "outputId": "ad938a5e-a009-48ae-9d73-c09dc73dfc14"
      },
      "source": [
        "from pyspark import SparkFiles\n",
        "url = \"https://s3.amazonaws.com/amazon-reviews-pds/tsv/amazon_reviews_us_Tools_v1_00.tsv.gz\"\n",
        "spark.sparkContext.addFile(url)\n",
        "df = spark.read.option(\"encoding\", \"UTF-8\").csv(SparkFiles.get(\"amazon_reviews_us_Tools_v1_00.tsv.gz\"), sep=\"\\t\", header=True, inferSchema=True)\n",
        "df.show()"
      ],
      "execution_count": 4,
      "outputs": [
        {
          "output_type": "stream",
          "name": "stdout",
          "text": [
            "+-----------+-----------+--------------+----------+--------------+--------------------+----------------+-----------+-------------+-----------+----+-----------------+--------------------+--------------------+-----------+\n",
            "|marketplace|customer_id|     review_id|product_id|product_parent|       product_title|product_category|star_rating|helpful_votes|total_votes|vine|verified_purchase|     review_headline|         review_body|review_date|\n",
            "+-----------+-----------+--------------+----------+--------------+--------------------+----------------+-----------+-------------+-----------+----+-----------------+--------------------+--------------------+-----------+\n",
            "|         US|   15785389|R2UM5QMHBHC90Q|B00H5U9ZD6|     115362950|WallPeg 12 sq ft ...|           Tools|          5|            0|          0|   N|                Y|Great organizer, ...|Very nice. Will o...| 2015-08-31|\n",
            "|         US|   47910848|  RF0D1LEIF6L7|B001TJGCS0|     570955425|Nite Ize Nite Daw...|           Tools|          4|            0|          0|   N|                Y|Like it, but the ...|Like it, but the ...| 2015-08-31|\n",
            "|         US|   36328996|  RM6YKIWQVNSY|B000NIK8JW|     128843593|Stanley 84-058 4 ...|           Tools|          1|            6|          6|   N|                Y|        poor quality|We were excited t...| 2015-08-31|\n",
            "|         US|   51785809|R1RL3L68ASPS36|B008ZYRGUA|     407828107|Powerextra 14.4V ...|           Tools|          4|            0|          0|   N|                Y|          Four Stars|Quick delivery. P...| 2015-08-31|\n",
            "|         US|   40757491|R1U4XFBFAG34CY|B00K5CA0GC|     490746675|Waterproof Invisi...|           Tools|          5|            0|          0|   N|                Y|          Five Stars|Quality waterproo...| 2015-08-31|\n",
            "|         US|   35544833|R3KFIK8P0I91PL|B00AIJAA94|     148352067|Crime Scene Do No...|           Tools|          5|            0|          0|   N|                Y|Excellent Decorat...|Ordered for my hu...| 2015-08-31|\n",
            "|         US|   16474909| RENOAY76PPK1O|B00JKEI6K8|     331801084|Aweek® 2 Pcs Bicy...|           Tools|          5|            0|          0|   N|                Y|          Five Stars|GREAT SELLER PROD...| 2015-08-31|\n",
            "|         US|   22601598| RINV884I0NL5V|B00AGCHVS6|     471514859|Ryobi P102 Genuin...|           Tools|          1|            0|          0|   N|                Y|Worked great for ...|My battery has di...| 2015-08-31|\n",
            "|         US|   16129808| R5KJH6CXZH2PX|B002S0O7U4|     162253576|Wiha 66995 6-Piec...|           Tools|          5|            0|          0|   N|                Y|       Great quality|Great product at ...| 2015-08-31|\n",
            "|         US|   24382335| RO69JF6QWD0W1|B0084YHXMW|      69530650|TOMTOP LED Submar...|           Tools|          5|            0|          0|   N|                Y|          Five Stars|           Excellent| 2015-08-31|\n",
            "|         US|   49796324|R3L9NQBH3FI55C|B00MLSS1SW|     916693555|Black & Decker BD...|           Tools|          4|            1|          1|   N|                Y|Really worked great!|This little sande...| 2015-08-31|\n",
            "|         US|   33289687| R4YH95YPHVU0C|B00D4WLS2A|      39333316|Crain 126 Staple ...|           Tools|          5|            0|          0|   N|                Y|         LOVE IT!!!!|This is the most ...| 2015-08-31|\n",
            "|         US|   10916386|R10M1WWDDQBGG2|B00JGCDV5Y|     550596607|Diamond Semi Roun...|           Tools|          2|            0|          0|   N|                Y|I needed to cut s...|I needed to cut s...| 2015-08-31|\n",
            "|         US|   34071500| RV3KWQBTNIO62|B00N0PS3YM|     735538025|It Mall 9 LED 375...|           Tools|          5|            1|          1|   N|                Y|   Works pretty well|Lights up small d...| 2015-08-31|\n",
            "|         US|   50594486|R1M7YUNLZI0G9F|B0000DD4KV|     506501960|IRWIN Tools Metri...|           Tools|          5|            1|          1|   N|                Y|          Five Stars|Great product for...| 2015-08-31|\n",
            "|         US|   21945887|R2MTL2D4E4HEF4|B0009H5FB8|     268586246|743022-A Backing ...|           Tools|          5|            0|          0|   N|                Y|          Five Stars|Many thanks for t...| 2015-08-31|\n",
            "|         US|   47749608| RXAHWIC1584UQ|B00NKSMPZW|     824618679|ClearArmor 141001...|           Tools|          5|           20|         23|   N|                Y|          Five Stars|geart product :) ...| 2015-08-31|\n",
            "|         US|   48880662| RMOIQFERVQDWS|B00RBAB92K|     156791442|KKmoon 9cm Mini A...|           Tools|          5|            0|          0|   N|                Y|          Five Stars|           very good| 2015-08-31|\n",
            "|         US|    4660265| R710G45MKODY9|B00QGBNZVI|     962324810|Refun E6 High Pow...|           Tools|          2|            1|          1|   N|                Y|           Two Stars|Scratches on lenses.| 2015-08-31|\n",
            "|         US|   18397238|R23ZIUGUM7TBMY|B00XXU3CDG|     543062309|Dr.meter S20 Mois...|           Tools|          1|            0|          1|   N|                Y|Don't waste your ...|It's a piece of $...| 2015-08-31|\n",
            "+-----------+-----------+--------------+----------+--------------+--------------------+----------------+-----------+-------------+-----------+----+-----------------+--------------------+--------------------+-----------+\n",
            "only showing top 20 rows\n",
            "\n"
          ]
        }
      ]
    },
    {
      "cell_type": "markdown",
      "metadata": {
        "id": "2yUSe55VY-9t"
      },
      "source": [
        "### Create DataFrames to match tables"
      ]
    },
    {
      "cell_type": "code",
      "metadata": {
        "id": "C8REmY1aY-9u"
      },
      "source": [
        "from pyspark.sql.functions import to_date\n",
        "# Read in the Review dataset as a DataFrame\n",
        "\n"
      ],
      "execution_count": 5,
      "outputs": []
    },
    {
      "cell_type": "code",
      "metadata": {
        "id": "B0TESUDRY-90",
        "colab": {
          "base_uri": "https://localhost:8080/"
        },
        "outputId": "fcb6ffc0-9cff-41fe-95ef-1e3378aa3153"
      },
      "source": [
        "# Create the customers_table DataFrame\n",
        "customers_df = df.groupby(\"customer_id\").agg({\"customer_id\":\"count\"}).withColumnRenamed(\"count(customer_id)\", \"customer_count\")\n",
        "\n",
        "\n",
        "customers_df.show()\n",
        "\n"
      ],
      "execution_count": 6,
      "outputs": [
        {
          "output_type": "stream",
          "name": "stdout",
          "text": [
            "+-----------+--------------+\n",
            "|customer_id|customer_count|\n",
            "+-----------+--------------+\n",
            "|   45978717|             2|\n",
            "|   43622307|             1|\n",
            "|     740678|             4|\n",
            "|   29045703|             1|\n",
            "|   52484548|             3|\n",
            "|   42560427|             4|\n",
            "|   17067926|             1|\n",
            "|   10093406|             1|\n",
            "|   44979559|             1|\n",
            "|   19432125|             1|\n",
            "|   26079415|             1|\n",
            "|   29931671|             1|\n",
            "|   12945150|             3|\n",
            "|   12036434|             1|\n",
            "|   14230926|             1|\n",
            "|   45015535|             1|\n",
            "|   39064792|             1|\n",
            "|   20709090|             1|\n",
            "|   45074906|             1|\n",
            "|   26767269|             2|\n",
            "+-----------+--------------+\n",
            "only showing top 20 rows\n",
            "\n"
          ]
        }
      ]
    },
    {
      "cell_type": "code",
      "metadata": {
        "id": "4FwXA6UvY-96",
        "colab": {
          "base_uri": "https://localhost:8080/"
        },
        "outputId": "c231ef9a-46e7-4c17-c2ab-45479fd2a4ce"
      },
      "source": [
        "# Create the products_table DataFrame and drop duplicates. \n",
        "products_df = df.select([\"product_id\", \"product_title\"]).drop_duplicates([\"product_id\"])\n",
        "products_df.show()"
      ],
      "execution_count": 7,
      "outputs": [
        {
          "output_type": "stream",
          "name": "stdout",
          "text": [
            "+----------+--------------------+\n",
            "|product_id|       product_title|\n",
            "+----------+--------------------+\n",
            "|5473197302|Himalaya Bresol B...|\n",
            "|B0000222VC|PORTER-CABLE 3969...|\n",
            "|B00002232Y|DEWALT DW423K 5-I...|\n",
            "|B0000223KA|Hitachi C7SBK 7-1...|\n",
            "|B0000223RU|3M 81403 3-Inch b...|\n",
            "|B0000223YS|Woodstock W1006 3...|\n",
            "|B000022429|Rousseau 3510 Com...|\n",
            "|B000022627|HTC Tool Saver Ju...|\n",
            "|B00002N5QC|McGuire Nicholas ...|\n",
            "|B00002N9E1|Shop-Vac 90671, T...|\n",
            "|B00002X2DD|Goldblatt Blue St...|\n",
            "|B00002X2FG|Stanley 42-748 48...|\n",
            "|B0000302U3|Bosch 3960K-CC 24...|\n",
            "|B00003030K|SK SKT45170 Profe...|\n",
            "|B00004RK0B|Freud 900-00 Size...|\n",
            "|B00004SBD9|Channellock 526 6...|\n",
            "|B00004SQ3C|GearWrench 2956D ...|\n",
            "|B00004T7IQ|Freud 44-100 1/2-...|\n",
            "|B00004W4AI|Sonin 10045 Multi...|\n",
            "|B00004W5PY|DEWALT DW255 6-Am...|\n",
            "+----------+--------------------+\n",
            "only showing top 20 rows\n",
            "\n"
          ]
        }
      ]
    },
    {
      "cell_type": "code",
      "metadata": {
        "id": "MkqyCuNQY-9-",
        "colab": {
          "base_uri": "https://localhost:8080/"
        },
        "outputId": "bc6a0f7b-e1a0-4f8b-8590-05756a301b7d"
      },
      "source": [
        "# Create the review_id_table DataFrame. \n",
        "# Convert the 'review_date' column to a date datatype with to_date(\"review_date\", 'yyyy-MM-dd').alias(\"review_date\")\n",
        "review_id_df = df.select([\"review_id\", \"customer_id\", \"product_id\", \"product_parent\",to_date(\"review_date\", 'yyyy-MM-dd').alias(\"review_date\")])\n",
        "\n",
        "review_id_df.show()"
      ],
      "execution_count": 8,
      "outputs": [
        {
          "output_type": "stream",
          "name": "stdout",
          "text": [
            "+--------------+-----------+----------+--------------+-----------+\n",
            "|     review_id|customer_id|product_id|product_parent|review_date|\n",
            "+--------------+-----------+----------+--------------+-----------+\n",
            "|R2UM5QMHBHC90Q|   15785389|B00H5U9ZD6|     115362950| 2015-08-31|\n",
            "|  RF0D1LEIF6L7|   47910848|B001TJGCS0|     570955425| 2015-08-31|\n",
            "|  RM6YKIWQVNSY|   36328996|B000NIK8JW|     128843593| 2015-08-31|\n",
            "|R1RL3L68ASPS36|   51785809|B008ZYRGUA|     407828107| 2015-08-31|\n",
            "|R1U4XFBFAG34CY|   40757491|B00K5CA0GC|     490746675| 2015-08-31|\n",
            "|R3KFIK8P0I91PL|   35544833|B00AIJAA94|     148352067| 2015-08-31|\n",
            "| RENOAY76PPK1O|   16474909|B00JKEI6K8|     331801084| 2015-08-31|\n",
            "| RINV884I0NL5V|   22601598|B00AGCHVS6|     471514859| 2015-08-31|\n",
            "| R5KJH6CXZH2PX|   16129808|B002S0O7U4|     162253576| 2015-08-31|\n",
            "| RO69JF6QWD0W1|   24382335|B0084YHXMW|      69530650| 2015-08-31|\n",
            "|R3L9NQBH3FI55C|   49796324|B00MLSS1SW|     916693555| 2015-08-31|\n",
            "| R4YH95YPHVU0C|   33289687|B00D4WLS2A|      39333316| 2015-08-31|\n",
            "|R10M1WWDDQBGG2|   10916386|B00JGCDV5Y|     550596607| 2015-08-31|\n",
            "| RV3KWQBTNIO62|   34071500|B00N0PS3YM|     735538025| 2015-08-31|\n",
            "|R1M7YUNLZI0G9F|   50594486|B0000DD4KV|     506501960| 2015-08-31|\n",
            "|R2MTL2D4E4HEF4|   21945887|B0009H5FB8|     268586246| 2015-08-31|\n",
            "| RXAHWIC1584UQ|   47749608|B00NKSMPZW|     824618679| 2015-08-31|\n",
            "| RMOIQFERVQDWS|   48880662|B00RBAB92K|     156791442| 2015-08-31|\n",
            "| R710G45MKODY9|    4660265|B00QGBNZVI|     962324810| 2015-08-31|\n",
            "|R23ZIUGUM7TBMY|   18397238|B00XXU3CDG|     543062309| 2015-08-31|\n",
            "+--------------+-----------+----------+--------------+-----------+\n",
            "only showing top 20 rows\n",
            "\n"
          ]
        }
      ]
    },
    {
      "cell_type": "code",
      "metadata": {
        "id": "lzMmkdKmY--D"
      },
      "source": [
        "# Create the vine_table. DataFrame\n",
        "from pyspark.sql.functions import col\n",
        "from pyspark.sql.types import IntegerType\n",
        "vine_df = df.select([\"review_id\", \"star_rating\", \"helpful_votes\", \"total_votes\", \"vine\", \"verified_purchase\"])\n",
        "\n",
        "# vine_df.show()"
      ],
      "execution_count": 9,
      "outputs": []
    },
    {
      "cell_type": "code",
      "source": [
        "# Casting the star_rating column as an integer to fit the postgres schema:\n",
        "vine_df = vine_df.select(vine_df.review_id, \n",
        "                         (vine_df.star_rating.cast(IntegerType()))\n",
        "                         .alias('star_rating'),\n",
        "                         vine_df.helpful_votes,\n",
        "                         vine_df.total_votes,\n",
        "                         vine_df.vine,\n",
        "                         vine_df.verified_purchase)\n",
        "\n",
        "vine_df.printSchema\n",
        "\n"
      ],
      "metadata": {
        "colab": {
          "base_uri": "https://localhost:8080/"
        },
        "id": "r-RnJnH6BR-D",
        "outputId": "003571a3-2193-4df3-f75a-d332bbfb3d26"
      },
      "execution_count": 20,
      "outputs": [
        {
          "output_type": "execute_result",
          "data": {
            "text/plain": [
              "<bound method DataFrame.printSchema of DataFrame[review_id: string, star_rating: int, helpful_votes: int, total_votes: int, vine: string, verified_purchase: string]>"
            ]
          },
          "metadata": {},
          "execution_count": 20
        }
      ]
    },
    {
      "cell_type": "code",
      "source": [
        "vine_df.show()"
      ],
      "metadata": {
        "colab": {
          "base_uri": "https://localhost:8080/"
        },
        "id": "dqoUNPq6ERYu",
        "outputId": "4a44d032-ff5b-46f7-8fb2-fd27a785e0f3"
      },
      "execution_count": 18,
      "outputs": [
        {
          "output_type": "stream",
          "name": "stdout",
          "text": [
            "+--------------+-----------+-------------+-----------+----+-----------------+\n",
            "|     review_id|star_rating|helpful_votes|total_votes|vine|verified_purchase|\n",
            "+--------------+-----------+-------------+-----------+----+-----------------+\n",
            "|R2UM5QMHBHC90Q|          5|            0|          0|   N|                Y|\n",
            "|  RF0D1LEIF6L7|          4|            0|          0|   N|                Y|\n",
            "|  RM6YKIWQVNSY|          1|            6|          6|   N|                Y|\n",
            "|R1RL3L68ASPS36|          4|            0|          0|   N|                Y|\n",
            "|R1U4XFBFAG34CY|          5|            0|          0|   N|                Y|\n",
            "|R3KFIK8P0I91PL|          5|            0|          0|   N|                Y|\n",
            "| RENOAY76PPK1O|          5|            0|          0|   N|                Y|\n",
            "| RINV884I0NL5V|          1|            0|          0|   N|                Y|\n",
            "| R5KJH6CXZH2PX|          5|            0|          0|   N|                Y|\n",
            "| RO69JF6QWD0W1|          5|            0|          0|   N|                Y|\n",
            "|R3L9NQBH3FI55C|          4|            1|          1|   N|                Y|\n",
            "| R4YH95YPHVU0C|          5|            0|          0|   N|                Y|\n",
            "|R10M1WWDDQBGG2|          2|            0|          0|   N|                Y|\n",
            "| RV3KWQBTNIO62|          5|            1|          1|   N|                Y|\n",
            "|R1M7YUNLZI0G9F|          5|            1|          1|   N|                Y|\n",
            "|R2MTL2D4E4HEF4|          5|            0|          0|   N|                Y|\n",
            "| RXAHWIC1584UQ|          5|           20|         23|   N|                Y|\n",
            "| RMOIQFERVQDWS|          5|            0|          0|   N|                Y|\n",
            "| R710G45MKODY9|          2|            1|          1|   N|                Y|\n",
            "|R23ZIUGUM7TBMY|          1|            0|          1|   N|                Y|\n",
            "+--------------+-----------+-------------+-----------+----+-----------------+\n",
            "only showing top 20 rows\n",
            "\n"
          ]
        }
      ]
    },
    {
      "cell_type": "markdown",
      "metadata": {
        "id": "jITZhLkmY--J"
      },
      "source": [
        "### Connect to the AWS RDS instance and write each DataFrame to its table. "
      ]
    },
    {
      "cell_type": "code",
      "metadata": {
        "id": "7jiUvs1aY--L",
        "colab": {
          "base_uri": "https://localhost:8080/"
        },
        "outputId": "f1f81c20-8b49-41a6-a1e0-f23fd34b91d7"
      },
      "source": [
        "# Configure settings for RDS\n",
        "from getpass import getpass\n",
        "\n",
        "password = getpass('Enter database password')\n",
        "\n",
        "mode = \"append\"\n",
        "jdbc_url=\"jdbc:postgresql://amazon-review-challenge.c3wl9sdubrpb.us-east-1.rds.amazonaws.com:5432/ToolReviews\"\n",
        "config = {\"user\":\"postgres\", \n",
        "          \"password\": password, \n",
        "          \"driver\":\"org.postgresql.Driver\"}"
      ],
      "execution_count": 12,
      "outputs": [
        {
          "name": "stdout",
          "output_type": "stream",
          "text": [
            "Enter database password··········\n"
          ]
        }
      ]
    },
    {
      "cell_type": "code",
      "metadata": {
        "id": "T2zgZ-aKY--Q"
      },
      "source": [
        "# Write review_id_df to table in RDS\n",
        "review_id_df.write.jdbc(url=jdbc_url, table='review_id_table', mode=mode, properties=config)"
      ],
      "execution_count": 13,
      "outputs": []
    },
    {
      "cell_type": "code",
      "metadata": {
        "id": "1m3yzn-LY--U"
      },
      "source": [
        "# Write products_df to table in RDS\n",
        "# about 3 min\n",
        "products_df.write.jdbc(url=jdbc_url, table='products_table', mode=mode, properties=config)"
      ],
      "execution_count": 14,
      "outputs": []
    },
    {
      "cell_type": "code",
      "metadata": {
        "id": "KbXri15fY--Z"
      },
      "source": [
        "# Write customers_df to table in RDS\n",
        "# 5 min 14 s\n",
        "customers_df.write.jdbc(url=jdbc_url, table='customers_table', mode=mode, properties=config)"
      ],
      "execution_count": 15,
      "outputs": []
    },
    {
      "cell_type": "code",
      "metadata": {
        "id": "XdQknSHLY--e"
      },
      "source": [
        "# Write vine_df to table in RDS\n",
        "# 11 minutes\n",
        "vine_df.write.jdbc(url=jdbc_url, table='vine_table', mode=mode, properties=config)"
      ],
      "execution_count": 21,
      "outputs": []
    },
    {
      "cell_type": "code",
      "metadata": {
        "id": "Exuo6ebUsCqW"
      },
      "source": [],
      "execution_count": null,
      "outputs": []
    }
  ]
}